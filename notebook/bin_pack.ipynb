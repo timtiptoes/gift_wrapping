{
 "cells": [
  {
   "cell_type": "markdown",
   "metadata": {},
   "source": [
    "To reference\n",
    "    https://github.com/secnot/rectpack/blob/master/docs/maxrects.png\n",
    "    https://www.instructables.com/The-Diagonal-Wrapping-Fallacy/"
   ]
  },
  {
   "cell_type": "code",
   "execution_count": 238,
   "metadata": {},
   "outputs": [],
   "source": [
    "import math\n",
    "from rectpack import newPacker\n",
    "import numpy as np\n",
    "\n",
    "def get_rects(x,y,z,name):\n",
    "    x_rect=2*(x+z)\n",
    "    y_rect=y+z\n",
    "\n",
    "    x_alt=2*(y+z)\n",
    "    y_alt=x+z\n",
    "    \n",
    "    #y_diag==SQRT((C14+C15)^2+(C13+C15)^2)\n",
    "    y_diag=((x+z)**2+(y+z)**2)**0.5\n",
    "    x_diag=(x_rect*y_rect)/y_diag\n",
    "    return [(x_rect,y_rect,name),(x_alt,y_alt,name),(x_diag,y_diag,name+\"_diag\")]\n",
    "\n",
    "def get_tuples(boxes):\n",
    "    rects_conventional=[]\n",
    "    rects_alt=[]\n",
    "    rects_diagnol=[]\n",
    "\n",
    "    for name in boxes:\n",
    "        rects=get_rects(boxes[name][0],boxes[name][1],boxes[name][2],name)\n",
    "        #print(\"got for {} : {}\".format(name,rects))\n",
    "        rects_conventional.append(rects[0])\n",
    "        rects_alt.append(rects[1])\n",
    "        rects_diagnol.append(rects[2])\n",
    "        \n",
    "    tuples=(rects_conventional,rects_alt,rects_diagnol)\n",
    "    return tuples\n",
    "\n",
    "\n",
    "def get_packs(rectangles):\n",
    "    bins = [(72,30.5),(30,30.5)]\n",
    "\n",
    "\n",
    "    packer = newPacker()\n",
    "\n",
    "    # Add the rectangles to packing queue\n",
    "    for r in rectangles:\n",
    "        packer.add_rect(*r)\n",
    "\n",
    "    # Add the bins where the rectangles will be placed\n",
    "    for b in bins:\n",
    "        packer.add_bin(*b)\n",
    "\n",
    "    # Start packing\n",
    "    packer.pack()\n",
    "    \n",
    "    return packer.rect_list()\n",
    "\n",
    "def get_ternary(i,n):\n",
    "    ternary=np.base_repr(i,base=3)\n",
    "    ternary_str=str(ternary)\n",
    "    ternary_str_padded = ternary_str.rjust(n,'0')\n",
    "    return ternary_str_padded\n",
    "\n",
    "def apply_mask(mask,tuples):\n",
    "    #given 3 tuples each n long apply a mask where 0122110 would take the first of the 1st tupe, second of second tuple, 3rd of \n",
    "    #third tuple\n",
    "    ret_tuple=[]\n",
    "    for i in range(len(mask)):\n",
    "        trit=mask[i]\n",
    "        ret_tuple.append(tuples[int(trit)][i])\n",
    "    return ret_tuple\n",
    "\n",
    "def pretty_dims(x,y):\n",
    "    return(\"{:.3f}x{:.3f}\".format(x,y))"
   ]
  },
  {
   "cell_type": "code",
   "execution_count": 240,
   "metadata": {},
   "outputs": [
    {
     "name": "stdout",
     "output_type": "stream",
     "text": [
      "winner:1010 cutouts:[(0, 0, 0, 35.0, 17.5, 'c'), (0, 0, 17.5, 29.0, 11.5, 'f'), (0, 29.0, 17.5, 17.0, 10.25, 's'), (0, 35.0, 0, 8.875, 12.25, 'h')] maximum_extent:46.0\n",
      "b:0\tbox:c\tx:0 y:0\t\t\t\tw:35.0 h:17.5\n",
      "b:0\tbox:f\tx:0 y:17.5\t\t\t\tw:29.0 h:11.5\n",
      "b:0\tbox:s\tx:29.0 y:17.5\t\t\t\tw:17.0 h:10.25\n",
      "b:0\tbox:h\tx:35.0 y:0\t\t\t\tw:8.875 h:12.25\n"
     ]
    }
   ],
   "source": [
    "boxes = {'f':(12.5,9.5,2.0),'s':(9.5,7.75,0.75),'h':(7.25,4.5,1.625),'c':(12.5,12.5,5.0)}\n",
    "n=len(boxes)\n",
    "\n",
    "global_extent=1e6\n",
    "\n",
    "tuples=get_tuples(boxes)\n",
    "\n",
    "for i in range(3**n):\n",
    "    mask = get_ternary(i,n)\n",
    "    rects_to_pack=apply_mask(mask,tuples)\n",
    "    packed_rects=get_packs(rects_to_pack)\n",
    "\n",
    "    extent_of_this_packing = max([r[1]+r[3] for r in packed_rects])\n",
    "    if extent_of_this_packing<global_extent:\n",
    "        global_extent=extent_of_this_packing\n",
    "        global_winning_mask=mask\n",
    "        global_winning_rects=packed_rects\n",
    "print(\"winner:{} cutouts:{} maximum_extent:{}\".format(global_winning_mask,global_winning_rects,global_extent))\n",
    "for rect in global_winning_rects:\n",
    "    b, x, y, w, h, rid = rect\n",
    "    print(\"b:{}\\tbox:{}\\tx:{} y:{}\\t\\t\\t\\tw:{} h:{}\".format(b,rid, x, y, w, h))"
   ]
  },
  {
   "cell_type": "code",
   "execution_count": 241,
   "metadata": {},
   "outputs": [
    {
     "name": "stderr",
     "output_type": "stream",
     "text": [
      "/usr/local/lib/python3.4/dist-packages/matplotlib/figure.py:2299: UserWarning: This figure includes Axes that are not compatible with tight_layout, so results might be incorrect.\n",
      "  warnings.warn(\"This figure includes Axes that are not compatible \"\n"
     ]
    },
    {
     "data": {
      "image/png": "[encoded data removed]",
      "text/plain": [
       "<Figure size 1008x504 with 1 Axes>"
      ]
     },
     "metadata": {},
     "output_type": "display_data"
    }
   ],
   "source": [
    "from matplotlib.collections import PatchCollection\n",
    "import matplotlib\n",
    "import matplotlib.pyplot as plt\n",
    "import random\n",
    "\n",
    "from matplotlib import pyplot as plt, patches\n",
    "plt.rcParams[\"figure.figsize\"] = [14.00, 7.00]\n",
    "#plt.rcParams[\"figure.autolayout\"] = True\n",
    "#figure, _ = plt.subplots()\n",
    "\n",
    "fig = plt.figure()\n",
    "ax = fig.add_subplot(111, aspect='equal')\n",
    "plt.xlim([0, global_extent])\n",
    "plt.ylim([0, 30.5])\n",
    "\n",
    "ax = plt.gca()\n",
    "\n",
    "for rect in global_winning_rects:\n",
    "    b, x, y, w, h, rid = rect\n",
    "\n",
    "    ax.add_patch(patches.Rectangle((x, y), w,h, edgecolor='orange',   facecolor='none', linewidth=2))\n",
    "    plt.text(x+1, y+3,rid,fontsize=16, color=\"red\", weight=\"bold\")\n",
    "    plt.text(x+1, y+1,pretty_dims(w,h),fontsize=12, color=\"red\", weight=\"bold\")\n",
    "\n",
    "\n",
    "plt.show()"
   ]
  }
 ],
 "metadata": {
  "kernelspec": {
   "display_name": "Python 3",
   "language": "python",
   "name": "python3"
  },
  "language_info": {
   "codemirror_mode": {
    "name": "ipython",
    "version": 3
   },
   "file_extension": ".py",
   "mimetype": "text/x-python",
   "name": "python",
   "nbconvert_exporter": "python",
   "pygments_lexer": "ipython3",
   "version": "3.4.3"
  }
 },
 "nbformat": 4,
 "nbformat_minor": 2
}
